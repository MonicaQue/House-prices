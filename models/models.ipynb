{
 "cells": [
  {
   "cell_type": "markdown",
   "metadata": {},
   "source": [
    "# House prices 6: Machine learning models"
   ]
  },
  {
   "cell_type": "code",
   "execution_count": 1,
   "metadata": {},
   "outputs": [],
   "source": [
    "import pandas as pd\n",
    "import numpy as np\n",
    "import matplotlib.pyplot as plt\n",
    "import seaborn as sns\n",
    "import os\n",
    "import warnings\n",
    "\n",
    "%matplotlib inline\n",
    "warnings.filterwarnings(\"ignore\")\n",
    "sns.set()"
   ]
  },
  {
   "cell_type": "code",
   "execution_count": 2,
   "metadata": {},
   "outputs": [],
   "source": [
    "from sklearn.linear_model import LinearRegression as Linear\n",
    "from sklearn.linear_model import BayesianRidge as Bayesian\n",
    "from sklearn.linear_model import ARDRegression as ARD\n",
    "from sklearn.linear_model import HuberRegressor as Huber\n",
    "from sklearn.linear_model import RANSACRegressor as RANSAC\n",
    "from sklearn.linear_model import PoissonRegressor as Poisson\n",
    "from sklearn.linear_model import TweedieRegressor as Tweedie\n",
    "from sklearn.linear_model import GammaRegressor as Gamma\n",
    "from sklearn.linear_model import SGDRegressor as SGD\n",
    "from sklearn.tree import DecisionTreeRegressor as DecisionTree\n",
    "from sklearn.tree import ExtraTreeRegressor as ExtraTree\n",
    "from sklearn.ensemble import RandomForestRegressor as RandomForest\n",
    "from sklearn.ensemble import AdaBoostRegressor as AdaBoost\n",
    "from sklearn.ensemble import BaggingRegressor as Bagging\n",
    "from sklearn.svm import SVR as SVR\n",
    "from sklearn.neighbors import KNeighborsRegressor as KNeighbors\n",
    "from sklearn.gaussian_process import GaussianProcessRegressor as Gaussian\n",
    "from sklearn.neural_network import MLPRegressor as Neural\n",
    "\n",
    "from sklearn.model_selection import KFold as KFold\n",
    "from sklearn.model_selection import cross_val_score as VScore\n",
    "from sklearn.metrics import mean_squared_error, r2_score"
   ]
  },
  {
   "cell_type": "code",
   "execution_count": 4,
   "metadata": {},
   "outputs": [],
   "source": [
    "dataset = pd.read_csv(\"pca_train.csv\")\n",
    "train = dataset.drop([\"target\"], axis=1)\n",
    "target = dataset[\"target\"]\n",
    "\n",
    "def writeCSV(number):\n",
    "    train.to_csv(\"train\"+str(number)+\".csv\")\n",
    "    test.to_csv(\"test\"+str(number)+\".csv\")\n",
    "\n",
    "def updateJoinedData():\n",
    "    global all_data, numerical, categorical\n",
    "    all_data = pd.concat(dataframes)\n",
    "    numerical = all_data.select_dtypes(include=np.number)\n",
    "    categorical = all_data.select_dtypes(exclude=np.number)"
   ]
  },
  {
   "cell_type": "code",
   "execution_count": 5,
   "metadata": {},
   "outputs": [],
   "source": [
    "def getAccuracy(model, data, target, parameters=\"\"):\n",
    "    model = eval(model)()\n",
    "    if parameters:\n",
    "        string = \"model.set_params(\"+parameters+\")\"\n",
    "        exec(string)\n",
    "    scoring = (\"neg_mean_squared_error\", \"r2\")\n",
    "    folds = np.abs(VScore(model, data, target, cv=10, n_jobs=1, scoring=scoring[0]))\n",
    "    mean_score = np.mean(folds)\n",
    "    r2_score = np.mean(VScore(model, data, target, cv=10, n_jobs=1, scoring=scoring[1]))\n",
    "    return folds, mean_score, r2_score"
   ]
  },
  {
   "cell_type": "code",
   "execution_count": 6,
   "metadata": {},
   "outputs": [],
   "source": [
    "def tryModel(model, data, target, parameters=\"\"):\n",
    "    folds, mean_score, r2_score = getAccuracy(model, data, target, parameters)\n",
    "    print(\"KFold Scores:  \", folds, \"\\n\")\n",
    "    print(\"MEAN SQUARED ERROR:  \", format(mean_score, \".4e\"), \"\\n\")\n",
    "    print(\"R2 ACCURACY:  \", \"{0:.5g}\".format(r2_score*100), \"%\")"
   ]
  },
  {
   "cell_type": "code",
   "execution_count": 9,
   "metadata": {},
   "outputs": [],
   "source": [
    "def testModels(data, target):    \n",
    "    folds = [] #kfolds\n",
    "    means = [] #squared errordef tryModel(model, data, target, parameters=\"\"):\n",
    "    scores = [] #r2 score\n",
    "    models = [\"Linear\", \"Bayesian\", \"ARD\", \"Huber\", \"RANSAC\", \"Poisson\", \"Tweedie\", \"Gamma\",\n",
    "              \"SGD\", \"DecisionTree\", \"ExtraTree\", \"RandomForest\", \"AdaBoost\", \"Bagging\",\n",
    "              \"SVR\", \"KNeighbors\", \"Gaussian\", \"Neural\"]\n",
    "    \n",
    "    #Compute each model and print the progress\n",
    "    unit = 100/len(models)\n",
    "    progress = unit\n",
    "    for i in models:\n",
    "        try:\n",
    "            print(\"Running\", i + \"...\")\n",
    "            folds.append(getAccuracy(i, data, target)[0])\n",
    "            means.append(getAccuracy(i, data, target)[1])\n",
    "            scores.append(getAccuracy(i, data, target)[2])\n",
    "            print(i, \"model successfully computed. Progress: \", \"{0:.3g}\".format(progress), \"%\")\n",
    "            progress += unit\n",
    "        except:\n",
    "            print(\"ERROR!!! The model \", i, \"was NOT computed\")\n",
    "    print(\"=\"*64, \"\\n\")\n",
    "    \n",
    "    #Decide what model is the best and and printed on screen\n",
    "    max_value = max(scores)\n",
    "    index = scores.index(max_value)\n",
    "    k_folds = folds[index]\n",
    "    mean_score = means[index]\n",
    "    print(\"BEST MODEL:  \", models[index], \"\\n\")\n",
    "    print(\"KFold Scores:  \", k_folds, \"\\n\")\n",
    "    print(\"MEAN SQUARED ERROR:  \", format(mean_score, \".4e\"), \"\\n\")\n",
    "    print(\"R2 ACCURACY: \",  \"{0:.5g}\".format(max_value*100), \"%\") "
   ]
  },
  {
   "cell_type": "code",
   "execution_count": 39,
   "metadata": {},
   "outputs": [
    {
     "name": "stdout",
     "output_type": "stream",
     "text": [
      "KFold Scores:   [6.08420692e+08 8.43337772e+08 4.90951296e+08 1.20777784e+09\n",
      " 1.17860883e+09 6.80784037e+08 1.35494059e+09 5.53800915e+08\n",
      " 2.71885669e+09 6.20504111e+08] \n",
      "\n",
      "MEAN SQUARED ERROR:   1.0258e+09 \n",
      "\n",
      "R2 ACCURACY:   84.092 %\n"
     ]
    }
   ],
   "source": [
    "tryModel(\"Linear\", train, target)"
   ]
  },
  {
   "cell_type": "code",
   "execution_count": 20,
   "metadata": {},
   "outputs": [
    {
     "name": "stdout",
     "output_type": "stream",
     "text": [
      "KFold Scores:   [4.88684805e+08 6.78487868e+08 4.94489485e+08 1.23975702e+09\n",
      " 1.25609100e+09 7.65946204e+08 5.77720587e+08 6.02834592e+08\n",
      " 2.73622837e+09 5.44865014e+08] \n",
      "\n",
      "MEAN SQUARED ERROR:   9.3851e+08 \n",
      "\n",
      "R2 ACCURACY:   85.867 %\n"
     ]
    }
   ],
   "source": [
    "tryModel(\"Huber\", train, target)"
   ]
  },
  {
   "cell_type": "code",
   "execution_count": 27,
   "metadata": {},
   "outputs": [
    {
     "name": "stdout",
     "output_type": "stream",
     "text": [
      "KFold Scores:   [5.28528460e+08 8.65803026e+08 6.13400406e+08 1.35840709e+09\n",
      " 1.58911233e+09 9.00385865e+08 6.96572433e+08 7.06438396e+08\n",
      " 2.86175764e+09 6.03869962e+08] \n",
      "\n",
      "MEAN SQUARED ERROR:   1.0724e+09 \n",
      "\n",
      "R2 ACCURACY:   83.828 %\n"
     ]
    }
   ],
   "source": [
    "tryModel(\"Tweedie\", train, target)"
   ]
  },
  {
   "cell_type": "code",
   "execution_count": 30,
   "metadata": {},
   "outputs": [
    {
     "name": "stdout",
     "output_type": "stream",
     "text": [
      "KFold Scores:   [3.81928602e+08 8.33771432e+08 4.75626418e+08 1.59687013e+09\n",
      " 1.20698728e+09 4.35818191e+08 4.02789568e+08 5.22975010e+08\n",
      " 1.99257966e+09 4.73318544e+08] \n",
      "\n",
      "MEAN SQUARED ERROR:   8.3227e+08 \n",
      "\n",
      "R2 ACCURACY:   87.717 %\n"
     ]
    }
   ],
   "source": [
    "tryModel(\"RandomForest\", train, target)"
   ]
  },
  {
   "cell_type": "code",
   "execution_count": 31,
   "metadata": {},
   "outputs": [
    {
     "name": "stdout",
     "output_type": "stream",
     "text": [
      "KFold Scores:   [6.94873551e+08 1.16285637e+09 8.24054304e+08 1.45013181e+09\n",
      " 1.84505248e+09 6.77937634e+08 7.86256768e+08 7.78508615e+08\n",
      " 2.31661685e+09 1.01955904e+09] \n",
      "\n",
      "MEAN SQUARED ERROR:   1.1556e+09 \n",
      "\n",
      "R2 ACCURACY:   82.652 %\n"
     ]
    }
   ],
   "source": [
    "tryModel(\"AdaBoost\", train, target)"
   ]
  },
  {
   "cell_type": "code",
   "execution_count": 32,
   "metadata": {},
   "outputs": [
    {
     "name": "stdout",
     "output_type": "stream",
     "text": [
      "KFold Scores:   [4.26140426e+08 9.01248479e+08 6.17420111e+08 1.71251074e+09\n",
      " 1.17093418e+09 4.76220725e+08 4.61381192e+08 6.10276412e+08\n",
      " 2.19809767e+09 5.41073365e+08] \n",
      "\n",
      "MEAN SQUARED ERROR:   9.1153e+08 \n",
      "\n",
      "R2 ACCURACY:   85.941 %\n"
     ]
    }
   ],
   "source": [
    "tryModel(\"Bagging\", train, target)"
   ]
  },
  {
   "cell_type": "code",
   "execution_count": 10,
   "metadata": {},
   "outputs": [
    {
     "name": "stdout",
     "output_type": "stream",
     "text": [
      "Running Linear...\n",
      "Linear model successfully computed. Progress:  5.56 %\n",
      "Running Bayesian...\n",
      "Bayesian model successfully computed. Progress:  11.1 %\n",
      "Running ARD...\n",
      "ARD model successfully computed. Progress:  16.7 %\n",
      "Running Huber...\n",
      "Huber model successfully computed. Progress:  22.2 %\n",
      "Running RANSAC...\n",
      "RANSAC model successfully computed. Progress:  27.8 %\n",
      "Running Poisson...\n",
      "Poisson model successfully computed. Progress:  33.3 %\n",
      "Running Tweedie...\n",
      "Tweedie model successfully computed. Progress:  38.9 %\n",
      "Running Gamma...\n",
      "Gamma model successfully computed. Progress:  44.4 %\n",
      "Running SGD...\n",
      "SGD model successfully computed. Progress:  50 %\n",
      "Running DecisionTree...\n",
      "DecisionTree model successfully computed. Progress:  55.6 %\n",
      "Running ExtraTree...\n",
      "ExtraTree model successfully computed. Progress:  61.1 %\n",
      "Running RandomForest...\n",
      "RandomForest model successfully computed. Progress:  66.7 %\n",
      "Running AdaBoost...\n",
      "AdaBoost model successfully computed. Progress:  72.2 %\n",
      "Running Bagging...\n",
      "Bagging model successfully computed. Progress:  77.8 %\n",
      "Running SVR...\n",
      "SVR model successfully computed. Progress:  83.3 %\n",
      "Running KNeighbors...\n",
      "KNeighbors model successfully computed. Progress:  88.9 %\n",
      "Running Gaussian...\n",
      "Gaussian model successfully computed. Progress:  94.4 %\n",
      "Running Neural...\n",
      "Neural model successfully computed. Progress:  100 %\n",
      "================================================================ \n",
      "\n",
      "BEST MODEL:   RandomForest \n",
      "\n",
      "KFold Scores:   [5.59610601e+08 1.16532367e+09 5.89225734e+08 1.77408534e+09\n",
      " 1.61339647e+09 6.72543017e+08 6.03150821e+08 6.86203688e+08\n",
      " 2.36477895e+09 5.80668439e+08] \n",
      "\n",
      "MEAN SQUARED ERROR:   1.0245e+09 \n",
      "\n",
      "R2 ACCURACY:  84.207 %\n"
     ]
    }
   ],
   "source": [
    "testModels(train, target)"
   ]
  },
  {
   "cell_type": "code",
   "execution_count": null,
   "metadata": {},
   "outputs": [],
   "source": []
  }
 ],
 "metadata": {
  "kernelspec": {
   "display_name": "Python 3 (ipykernel)",
   "language": "python",
   "name": "python3"
  },
  "language_info": {
   "codemirror_mode": {
    "name": "ipython",
    "version": 3
   },
   "file_extension": ".py",
   "mimetype": "text/x-python",
   "name": "python",
   "nbconvert_exporter": "python",
   "pygments_lexer": "ipython3",
   "version": "3.9.6"
  }
 },
 "nbformat": 4,
 "nbformat_minor": 4
}
