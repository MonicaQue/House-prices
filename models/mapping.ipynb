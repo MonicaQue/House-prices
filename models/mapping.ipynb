{
 "cells": [
  {
   "cell_type": "markdown",
   "metadata": {},
   "source": [
    "# House prices 4: Mapping categorical data to do feature engineering"
   ]
  },
  {
   "cell_type": "code",
   "execution_count": 1,
   "metadata": {},
   "outputs": [],
   "source": [
    "import pandas as pd\n",
    "import numpy as np\n",
    "import matplotlib.pyplot as plt\n",
    "import seaborn as sns\n",
    "import os\n",
    "import warnings\n",
    "\n",
    "%matplotlib inline\n",
    "warnings.filterwarnings(\"ignore\")\n",
    "sns.set()"
   ]
  },
  {
   "cell_type": "code",
   "execution_count": 2,
   "metadata": {},
   "outputs": [],
   "source": [
    "train = pd.read_csv(\"train2.csv\")\n",
    "test = pd.read_csv(\"test2.csv\")\n",
    "dataframes = [train, test]\n",
    "all_data = pd.concat(dataframes)\n",
    "numerical = all_data.select_dtypes(include=np.number)\n",
    "categorical = all_data.select_dtypes(exclude=np.number)\n",
    "\n",
    "def writeCSV(number):\n",
    "    train.to_csv(\"train\"+str(number)+\".csv\")\n",
    "    test.to_csv(\"test\"+str(number)+\".csv\")\n",
    "\n",
    "def updateJoinedData():\n",
    "    global all_data, numerical, categorical\n",
    "    all_data = pd.concat(dataframes)\n",
    "    numerical = all_data.select_dtypes(include=np.number)\n",
    "    categorical = all_data.select_dtypes(exclude=np.number)"
   ]
  },
  {
   "cell_type": "code",
   "execution_count": 11,
   "metadata": {},
   "outputs": [],
   "source": [
    "def showCategories(data, feature):\n",
    "    count = data[feature].value_counts()\n",
    "    index = count.index\n",
    "    array = index.values\n",
    "    categories = np.ndarray.tolist(array)\n",
    "    print(type(count))\n",
    "    print(count)\n",
    "    print()\n",
    "    print(type(index))\n",
    "    print(index)\n",
    "    print()\n",
    "    print(type(array))\n",
    "    print(array)\n",
    "    print()\n",
    "    print(type(categories))\n",
    "    print(categories)\n",
    "    \n",
    "def getCategories(data, feature):\n",
    "    array = data[feature].value_counts().index.values\n",
    "    categories = np.ndarray.tolist(array)\n",
    "    return categories\n",
    "\n",
    "def mapCategories(data, feature): #return a dictionary the the categories of a single feature\n",
    "    array = data[feature].value_counts().index.values #return the categories in a numpy array\n",
    "    categories = np.ndarray.tolist(array) #convert that array in a native python list\n",
    "    book = {i:categories[i] for i in range(0, len(categories))} #ennumerate the categories\n",
    "    myDict = {i: j for j, i in book.items()} #invert the keys and values of the prev. dict\n",
    "    return myDict\n",
    "\n",
    "def categoricalMapping(data, include=[], exclude=[]): #do the same for all categorical features\n",
    "    if include:\n",
    "        categorical = include\n",
    "    else:\n",
    "        categorical = data.select_dtypes(exclude=np.number)\n",
    "    for feature in categorical:\n",
    "        if feature not in exclude:\n",
    "            mapCategories(data, feature)\n",
    "\n",
    "def writeCategories(data, feature, book={}): #overwrite the features converted into numbers\n",
    "    if not book:\n",
    "        book = mapCategories(data, feature)\n",
    "    else:\n",
    "        book = book\n",
    "    data[feature] = data[feature].map(book)\n",
    "\n",
    "def categoricalWritting(data, include=[], exclude=[]): #do the same for all the dataset\n",
    "    if include:\n",
    "        categorical = include\n",
    "    else:\n",
    "        categorical = data.select_dtypes(exclude=np.number)\n",
    "    for feature in categorical:\n",
    "        if feature not in exclude:\n",
    "            writeCategories(data, feature)\n"
   ]
  },
  {
   "cell_type": "code",
   "execution_count": 8,
   "metadata": {},
   "outputs": [
    {
     "name": "stdout",
     "output_type": "stream",
     "text": [
      "Index(['MSZoning', 'Street', 'Alley', 'LotShape', 'LandContour', 'Utilities',\n",
      "       'LotConfig', 'LandSlope', 'Neighborhood', 'Condition1', 'Condition2',\n",
      "       'BldgType', 'HouseStyle', 'RoofStyle', 'RoofMatl', 'Exterior1st',\n",
      "       'Exterior2nd', 'MasVnrType', 'ExterQual', 'ExterCond', 'Foundation',\n",
      "       'BsmtQual', 'BsmtCond', 'BsmtExposure', 'BsmtFinType1', 'BsmtFinType2',\n",
      "       'Heating', 'HeatingQC', 'CentralAir', 'Electrical', 'KitchenQual',\n",
      "       'Functional', 'FireplaceQu', 'GarageType', 'GarageFinish', 'GarageQual',\n",
      "       'GarageCond', 'PavedDrive', 'PoolQC', 'Fence', 'MiscFeature',\n",
      "       'SaleType', 'SaleCondition'],\n",
      "      dtype='object')\n"
     ]
    }
   ],
   "source": [
    "print(categorical.columns)"
   ]
  },
  {
   "cell_type": "code",
   "execution_count": 22,
   "metadata": {
    "scrolled": true
   },
   "outputs": [],
   "source": [
    "#The method that categorize everything\n",
    "for frame in dataframes:\n",
    "    categoricalWritting(frame)"
   ]
  },
  {
   "cell_type": "code",
   "execution_count": 23,
   "metadata": {},
   "outputs": [],
   "source": [
    "writeCSV(3)"
   ]
  }
 ],
 "metadata": {
  "kernelspec": {
   "display_name": "Python 3 (ipykernel)",
   "language": "python",
   "name": "python3"
  },
  "language_info": {
   "codemirror_mode": {
    "name": "ipython",
    "version": 3
   },
   "file_extension": ".py",
   "mimetype": "text/x-python",
   "name": "python",
   "nbconvert_exporter": "python",
   "pygments_lexer": "ipython3",
   "version": "3.9.6"
  }
 },
 "nbformat": 4,
 "nbformat_minor": 4
}
